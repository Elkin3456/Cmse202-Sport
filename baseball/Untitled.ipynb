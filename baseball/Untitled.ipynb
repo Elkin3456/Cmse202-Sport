{
 "cells": [
  {
   "cell_type": "code",
   "execution_count": 28,
   "metadata": {},
   "outputs": [],
   "source": [
    "import pandas as pd\n",
    "import numpy as np\n",
    "#empty list for txt file names\n",
    "years = []\n",
    "#columns followed by years\n",
    "coln = [3,5,6,8,9,10,11,12,16,17,18,21,22,23,24,25,26,30,31,32,37,49,50,51,52,53,54,58,59,60,65]\n",
    "colname = ['visitor','vgn','home','hgn','vscore','hscore','outs','d/n','park','at','time','vab','vhit','v2b','v3b','vhr','vrbi','vwalk','viwalk','vstrik','vlob','hab','hhit','h2b','h3b','hhr','hrbi','hwalk','hiwalk','hstrik','hlob']\n",
    "#eventually we will run all the years with [i] at for filenames\n",
    "#for i in range(len(years)):\n",
    "mast = pd.read_csv('GL2015.TXT',sep=\",\",usecols= coln, names = colname)\n",
    "#mast"
   ]
  },
  {
   "cell_type": "code",
   "execution_count": 29,
   "metadata": {},
   "outputs": [],
   "source": [
    "#initalise team list\n",
    "teams = mast.iloc[:,0].unique()\n",
    "tn = len(teams)\n",
    "teaml = teams.tolist() \n",
    "home = {}\n",
    "visitor = {}\n",
    "total = {}\n",
    "for a in range(tn):\n",
    "    home[\"team{0}\".format(a)] = mast[mast['home']== teams[a]]\n",
    "    visitor[\"team{0}\".format(a)] = mast[mast['visitor']== teams[a]]\n",
    "    total[\"team{0}\".format(a)] = mast[(mast['visitor'] == teams[a]) | (mast['home'] == teams[a])]\n",
    "#total['team1']"
   ]
  },
  {
   "cell_type": "code",
   "execution_count": null,
   "metadata": {},
   "outputs": [],
   "source": []
  },
  {
   "cell_type": "code",
   "execution_count": null,
   "metadata": {},
   "outputs": [],
   "source": []
  }
 ],
 "metadata": {
  "kernelspec": {
   "display_name": "Python 3",
   "language": "python",
   "name": "python3"
  },
  "language_info": {
   "codemirror_mode": {
    "name": "ipython",
    "version": 3
   },
   "file_extension": ".py",
   "mimetype": "text/x-python",
   "name": "python",
   "nbconvert_exporter": "python",
   "pygments_lexer": "ipython3",
   "version": "3.7.3"
  }
 },
 "nbformat": 4,
 "nbformat_minor": 2
}
